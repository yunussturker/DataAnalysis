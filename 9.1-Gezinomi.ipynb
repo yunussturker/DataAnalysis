{
 "cells": [
  {
   "cell_type": "code",
   "execution_count": 19,
   "id": "6d2b81c4-6229-4cb1-8c76-08293bacf5ed",
   "metadata": {},
   "outputs": [],
   "source": [
    "import numpy as np\n",
    "import pandas as pd\n",
    "pd.set_option(\"display.max_columns\", None)\n",
    "pd.set_option(\"display.float_format\", lambda x: \"%.2f\" % x)"
   ]
  },
  {
   "cell_type": "code",
   "execution_count": 2,
   "id": "13a2a0e9-0594-4dc8-b94e-2f001d581eac",
   "metadata": {},
   "outputs": [
    {
     "data": {
      "text/html": [
       "<div>\n",
       "<style scoped>\n",
       "    .dataframe tbody tr th:only-of-type {\n",
       "        vertical-align: middle;\n",
       "    }\n",
       "\n",
       "    .dataframe tbody tr th {\n",
       "        vertical-align: top;\n",
       "    }\n",
       "\n",
       "    .dataframe thead th {\n",
       "        text-align: right;\n",
       "    }\n",
       "</style>\n",
       "<table border=\"1\" class=\"dataframe\">\n",
       "  <thead>\n",
       "    <tr style=\"text-align: right;\">\n",
       "      <th></th>\n",
       "      <th>SaleId</th>\n",
       "      <th>SaleDate</th>\n",
       "      <th>CheckInDate</th>\n",
       "      <th>Price</th>\n",
       "      <th>ConceptName</th>\n",
       "      <th>SaleCityName</th>\n",
       "      <th>CInDay</th>\n",
       "      <th>SaleCheckInDayDiff</th>\n",
       "      <th>Seasons</th>\n",
       "    </tr>\n",
       "  </thead>\n",
       "  <tbody>\n",
       "    <tr>\n",
       "      <th>0</th>\n",
       "      <td>415122</td>\n",
       "      <td>2022-12-03</td>\n",
       "      <td>2022-12-03</td>\n",
       "      <td>79.304029</td>\n",
       "      <td>Herşey Dahil</td>\n",
       "      <td>Antalya</td>\n",
       "      <td>Saturday</td>\n",
       "      <td>0</td>\n",
       "      <td>Low</td>\n",
       "    </tr>\n",
       "    <tr>\n",
       "      <th>1</th>\n",
       "      <td>415103</td>\n",
       "      <td>2022-12-03</td>\n",
       "      <td>2022-12-03</td>\n",
       "      <td>45.970696</td>\n",
       "      <td>Yarım Pansiyon</td>\n",
       "      <td>Antalya</td>\n",
       "      <td>Saturday</td>\n",
       "      <td>0</td>\n",
       "      <td>Low</td>\n",
       "    </tr>\n",
       "    <tr>\n",
       "      <th>2</th>\n",
       "      <td>404034</td>\n",
       "      <td>2022-09-12</td>\n",
       "      <td>2022-09-13</td>\n",
       "      <td>77.838828</td>\n",
       "      <td>Herşey Dahil</td>\n",
       "      <td>Antalya</td>\n",
       "      <td>Tuesday</td>\n",
       "      <td>1</td>\n",
       "      <td>High</td>\n",
       "    </tr>\n",
       "    <tr>\n",
       "      <th>3</th>\n",
       "      <td>415094</td>\n",
       "      <td>2022-12-03</td>\n",
       "      <td>2022-12-10</td>\n",
       "      <td>222.710623</td>\n",
       "      <td>Yarım Pansiyon</td>\n",
       "      <td>İzmir</td>\n",
       "      <td>Saturday</td>\n",
       "      <td>7</td>\n",
       "      <td>Low</td>\n",
       "    </tr>\n",
       "    <tr>\n",
       "      <th>4</th>\n",
       "      <td>414951</td>\n",
       "      <td>2022-12-01</td>\n",
       "      <td>2022-12-03</td>\n",
       "      <td>140.476190</td>\n",
       "      <td>Yarım Pansiyon</td>\n",
       "      <td>İzmir</td>\n",
       "      <td>Saturday</td>\n",
       "      <td>2</td>\n",
       "      <td>Low</td>\n",
       "    </tr>\n",
       "  </tbody>\n",
       "</table>\n",
       "</div>"
      ],
      "text/plain": [
       "   SaleId   SaleDate CheckInDate       Price     ConceptName SaleCityName  \\\n",
       "0  415122 2022-12-03  2022-12-03   79.304029    Herşey Dahil      Antalya   \n",
       "1  415103 2022-12-03  2022-12-03   45.970696  Yarım Pansiyon      Antalya   \n",
       "2  404034 2022-09-12  2022-09-13   77.838828    Herşey Dahil      Antalya   \n",
       "3  415094 2022-12-03  2022-12-10  222.710623  Yarım Pansiyon        İzmir   \n",
       "4  414951 2022-12-01  2022-12-03  140.476190  Yarım Pansiyon        İzmir   \n",
       "\n",
       "     CInDay  SaleCheckInDayDiff Seasons  \n",
       "0  Saturday                   0     Low  \n",
       "1  Saturday                   0     Low  \n",
       "2   Tuesday                   1    High  \n",
       "3  Saturday                   7     Low  \n",
       "4  Saturday                   2     Low  "
      ]
     },
     "execution_count": 2,
     "metadata": {},
     "output_type": "execute_result"
    }
   ],
   "source": [
    "df = pd.read_excel(\"gezinomi_tantm-230304-111358/gezinomi_tanıtım/miuul_gezinomi.xlsx\")\n",
    "df.head()"
   ]
  },
  {
   "cell_type": "code",
   "execution_count": 10,
   "id": "608ff394-4185-4720-b670-9fe4dac10a91",
   "metadata": {},
   "outputs": [
    {
     "data": {
      "text/plain": [
       "(59164, 9)"
      ]
     },
     "execution_count": 10,
     "metadata": {},
     "output_type": "execute_result"
    }
   ],
   "source": [
    "df.shape"
   ]
  },
  {
   "cell_type": "code",
   "execution_count": 11,
   "id": "7c6431a2-b27d-496c-b0e3-d3d09cae17fd",
   "metadata": {},
   "outputs": [
    {
     "name": "stdout",
     "output_type": "stream",
     "text": [
      "<class 'pandas.core.frame.DataFrame'>\n",
      "RangeIndex: 59164 entries, 0 to 59163\n",
      "Data columns (total 9 columns):\n",
      " #   Column              Non-Null Count  Dtype         \n",
      "---  ------              --------------  -----         \n",
      " 0   SaleId              59164 non-null  int64         \n",
      " 1   SaleDate            59164 non-null  datetime64[ns]\n",
      " 2   CheckInDate         59164 non-null  datetime64[ns]\n",
      " 3   Price               59151 non-null  float64       \n",
      " 4   ConceptName         59164 non-null  object        \n",
      " 5   SaleCityName        59164 non-null  object        \n",
      " 6   CInDay              59164 non-null  object        \n",
      " 7   SaleCheckInDayDiff  59164 non-null  int64         \n",
      " 8   Seasons             59164 non-null  object        \n",
      "dtypes: datetime64[ns](2), float64(1), int64(2), object(4)\n",
      "memory usage: 4.1+ MB\n"
     ]
    }
   ],
   "source": [
    "df.info()"
   ]
  },
  {
   "cell_type": "code",
   "execution_count": 12,
   "id": "47ecb07a-27e0-4bab-9530-4b7cbcb2f5a5",
   "metadata": {},
   "outputs": [
    {
     "data": {
      "text/plain": [
       "6"
      ]
     },
     "execution_count": 12,
     "metadata": {},
     "output_type": "execute_result"
    }
   ],
   "source": [
    "df[\"SaleCityName\"].nunique()"
   ]
  },
  {
   "cell_type": "code",
   "execution_count": 13,
   "id": "e4da9cbd-99ba-43be-a6ef-ed4158fa68f7",
   "metadata": {},
   "outputs": [
    {
     "data": {
      "text/plain": [
       "Antalya    31649\n",
       "Muğla      10662\n",
       "Aydın      10646\n",
       "Diğer       3245\n",
       "İzmir       2507\n",
       "Girne        455\n",
       "Name: SaleCityName, dtype: int64"
      ]
     },
     "execution_count": 13,
     "metadata": {},
     "output_type": "execute_result"
    }
   ],
   "source": [
    "df[\"SaleCityName\"].value_counts()"
   ]
  },
  {
   "cell_type": "code",
   "execution_count": 14,
   "id": "2724b15d-ebef-460e-82c4-8a897338e2e2",
   "metadata": {},
   "outputs": [
    {
     "data": {
      "text/plain": [
       "3"
      ]
     },
     "execution_count": 14,
     "metadata": {},
     "output_type": "execute_result"
    }
   ],
   "source": [
    "df[\"ConceptName\"].nunique()"
   ]
  },
  {
   "cell_type": "code",
   "execution_count": 15,
   "id": "71c51059-5048-4efb-83ef-0caf0e68f489",
   "metadata": {},
   "outputs": [
    {
     "data": {
      "text/plain": [
       "Herşey Dahil      53186\n",
       "Yarım Pansiyon     3559\n",
       "Oda + Kahvaltı     2419\n",
       "Name: ConceptName, dtype: int64"
      ]
     },
     "execution_count": 15,
     "metadata": {},
     "output_type": "execute_result"
    }
   ],
   "source": [
    "df[\"ConceptName\"].value_counts()"
   ]
  },
  {
   "cell_type": "code",
   "execution_count": 20,
   "id": "594c2983-97da-4b08-a53c-ff19eb656a40",
   "metadata": {},
   "outputs": [
    {
     "data": {
      "text/html": [
       "<div>\n",
       "<style scoped>\n",
       "    .dataframe tbody tr th:only-of-type {\n",
       "        vertical-align: middle;\n",
       "    }\n",
       "\n",
       "    .dataframe tbody tr th {\n",
       "        vertical-align: top;\n",
       "    }\n",
       "\n",
       "    .dataframe thead th {\n",
       "        text-align: right;\n",
       "    }\n",
       "</style>\n",
       "<table border=\"1\" class=\"dataframe\">\n",
       "  <thead>\n",
       "    <tr style=\"text-align: right;\">\n",
       "      <th></th>\n",
       "      <th>Price</th>\n",
       "    </tr>\n",
       "    <tr>\n",
       "      <th>SaleCityName</th>\n",
       "      <th></th>\n",
       "    </tr>\n",
       "  </thead>\n",
       "  <tbody>\n",
       "    <tr>\n",
       "      <th>Antalya</th>\n",
       "      <td>2041911.10</td>\n",
       "    </tr>\n",
       "    <tr>\n",
       "      <th>Aydın</th>\n",
       "      <td>573296.01</td>\n",
       "    </tr>\n",
       "    <tr>\n",
       "      <th>Diğer</th>\n",
       "      <td>154572.29</td>\n",
       "    </tr>\n",
       "    <tr>\n",
       "      <th>Girne</th>\n",
       "      <td>27065.03</td>\n",
       "    </tr>\n",
       "    <tr>\n",
       "      <th>Muğla</th>\n",
       "      <td>665842.21</td>\n",
       "    </tr>\n",
       "    <tr>\n",
       "      <th>İzmir</th>\n",
       "      <td>165934.83</td>\n",
       "    </tr>\n",
       "  </tbody>\n",
       "</table>\n",
       "</div>"
      ],
      "text/plain": [
       "                  Price\n",
       "SaleCityName           \n",
       "Antalya      2041911.10\n",
       "Aydın         573296.01\n",
       "Diğer         154572.29\n",
       "Girne          27065.03\n",
       "Muğla         665842.21\n",
       "İzmir         165934.83"
      ]
     },
     "execution_count": 20,
     "metadata": {},
     "output_type": "execute_result"
    }
   ],
   "source": [
    "df.groupby(\"SaleCityName\").agg({\"Price\": \"sum\"})"
   ]
  },
  {
   "cell_type": "code",
   "execution_count": 21,
   "id": "1618409d-a3b4-4889-a868-466a3b4ab53b",
   "metadata": {},
   "outputs": [
    {
     "data": {
      "text/html": [
       "<div>\n",
       "<style scoped>\n",
       "    .dataframe tbody tr th:only-of-type {\n",
       "        vertical-align: middle;\n",
       "    }\n",
       "\n",
       "    .dataframe tbody tr th {\n",
       "        vertical-align: top;\n",
       "    }\n",
       "\n",
       "    .dataframe thead th {\n",
       "        text-align: right;\n",
       "    }\n",
       "</style>\n",
       "<table border=\"1\" class=\"dataframe\">\n",
       "  <thead>\n",
       "    <tr style=\"text-align: right;\">\n",
       "      <th></th>\n",
       "      <th>Price</th>\n",
       "    </tr>\n",
       "    <tr>\n",
       "      <th>ConceptName</th>\n",
       "      <th></th>\n",
       "    </tr>\n",
       "  </thead>\n",
       "  <tbody>\n",
       "    <tr>\n",
       "      <th>Herşey Dahil</th>\n",
       "      <td>3332910.77</td>\n",
       "    </tr>\n",
       "    <tr>\n",
       "      <th>Oda + Kahvaltı</th>\n",
       "      <td>121308.35</td>\n",
       "    </tr>\n",
       "    <tr>\n",
       "      <th>Yarım Pansiyon</th>\n",
       "      <td>174402.35</td>\n",
       "    </tr>\n",
       "  </tbody>\n",
       "</table>\n",
       "</div>"
      ],
      "text/plain": [
       "                    Price\n",
       "ConceptName              \n",
       "Herşey Dahil   3332910.77\n",
       "Oda + Kahvaltı  121308.35\n",
       "Yarım Pansiyon  174402.35"
      ]
     },
     "execution_count": 21,
     "metadata": {},
     "output_type": "execute_result"
    }
   ],
   "source": [
    "df.groupby(\"ConceptName\").agg({\"Price\": \"sum\"})"
   ]
  },
  {
   "cell_type": "code",
   "execution_count": 22,
   "id": "8d183351-055b-4544-adea-4675d30e7236",
   "metadata": {},
   "outputs": [
    {
     "data": {
      "text/html": [
       "<div>\n",
       "<style scoped>\n",
       "    .dataframe tbody tr th:only-of-type {\n",
       "        vertical-align: middle;\n",
       "    }\n",
       "\n",
       "    .dataframe tbody tr th {\n",
       "        vertical-align: top;\n",
       "    }\n",
       "\n",
       "    .dataframe thead th {\n",
       "        text-align: right;\n",
       "    }\n",
       "</style>\n",
       "<table border=\"1\" class=\"dataframe\">\n",
       "  <thead>\n",
       "    <tr style=\"text-align: right;\">\n",
       "      <th></th>\n",
       "      <th>Price</th>\n",
       "    </tr>\n",
       "    <tr>\n",
       "      <th>SaleCityName</th>\n",
       "      <th></th>\n",
       "    </tr>\n",
       "  </thead>\n",
       "  <tbody>\n",
       "    <tr>\n",
       "      <th>Antalya</th>\n",
       "      <td>64.52</td>\n",
       "    </tr>\n",
       "    <tr>\n",
       "      <th>Aydın</th>\n",
       "      <td>53.86</td>\n",
       "    </tr>\n",
       "    <tr>\n",
       "      <th>Diğer</th>\n",
       "      <td>47.71</td>\n",
       "    </tr>\n",
       "    <tr>\n",
       "      <th>Girne</th>\n",
       "      <td>59.48</td>\n",
       "    </tr>\n",
       "    <tr>\n",
       "      <th>Muğla</th>\n",
       "      <td>62.46</td>\n",
       "    </tr>\n",
       "    <tr>\n",
       "      <th>İzmir</th>\n",
       "      <td>66.27</td>\n",
       "    </tr>\n",
       "  </tbody>\n",
       "</table>\n",
       "</div>"
      ],
      "text/plain": [
       "              Price\n",
       "SaleCityName       \n",
       "Antalya       64.52\n",
       "Aydın         53.86\n",
       "Diğer         47.71\n",
       "Girne         59.48\n",
       "Muğla         62.46\n",
       "İzmir         66.27"
      ]
     },
     "execution_count": 22,
     "metadata": {},
     "output_type": "execute_result"
    }
   ],
   "source": [
    "df.groupby(\"SaleCityName\").agg({\"Price\": \"mean\"})"
   ]
  },
  {
   "cell_type": "code",
   "execution_count": 23,
   "id": "f380cf73-64c4-4c4d-a095-b2361ef05ed1",
   "metadata": {},
   "outputs": [
    {
     "data": {
      "text/html": [
       "<div>\n",
       "<style scoped>\n",
       "    .dataframe tbody tr th:only-of-type {\n",
       "        vertical-align: middle;\n",
       "    }\n",
       "\n",
       "    .dataframe tbody tr th {\n",
       "        vertical-align: top;\n",
       "    }\n",
       "\n",
       "    .dataframe thead th {\n",
       "        text-align: right;\n",
       "    }\n",
       "</style>\n",
       "<table border=\"1\" class=\"dataframe\">\n",
       "  <thead>\n",
       "    <tr style=\"text-align: right;\">\n",
       "      <th></th>\n",
       "      <th>Price</th>\n",
       "    </tr>\n",
       "    <tr>\n",
       "      <th>ConceptName</th>\n",
       "      <th></th>\n",
       "    </tr>\n",
       "  </thead>\n",
       "  <tbody>\n",
       "    <tr>\n",
       "      <th>Herşey Dahil</th>\n",
       "      <td>62.67</td>\n",
       "    </tr>\n",
       "    <tr>\n",
       "      <th>Oda + Kahvaltı</th>\n",
       "      <td>50.25</td>\n",
       "    </tr>\n",
       "    <tr>\n",
       "      <th>Yarım Pansiyon</th>\n",
       "      <td>49.03</td>\n",
       "    </tr>\n",
       "  </tbody>\n",
       "</table>\n",
       "</div>"
      ],
      "text/plain": [
       "                Price\n",
       "ConceptName          \n",
       "Herşey Dahil    62.67\n",
       "Oda + Kahvaltı  50.25\n",
       "Yarım Pansiyon  49.03"
      ]
     },
     "execution_count": 23,
     "metadata": {},
     "output_type": "execute_result"
    }
   ],
   "source": [
    "df.groupby(\"ConceptName\").agg({\"Price\": \"mean\"})"
   ]
  },
  {
   "cell_type": "code",
   "execution_count": 25,
   "id": "e9b205ec-d415-45c9-a6f7-3d8072293ff0",
   "metadata": {},
   "outputs": [
    {
     "data": {
      "text/html": [
       "<div>\n",
       "<style scoped>\n",
       "    .dataframe tbody tr th:only-of-type {\n",
       "        vertical-align: middle;\n",
       "    }\n",
       "\n",
       "    .dataframe tbody tr th {\n",
       "        vertical-align: top;\n",
       "    }\n",
       "\n",
       "    .dataframe thead th {\n",
       "        text-align: right;\n",
       "    }\n",
       "</style>\n",
       "<table border=\"1\" class=\"dataframe\">\n",
       "  <thead>\n",
       "    <tr style=\"text-align: right;\">\n",
       "      <th></th>\n",
       "      <th></th>\n",
       "      <th>Price</th>\n",
       "    </tr>\n",
       "    <tr>\n",
       "      <th>SaleCityName</th>\n",
       "      <th>ConceptName</th>\n",
       "      <th></th>\n",
       "    </tr>\n",
       "  </thead>\n",
       "  <tbody>\n",
       "    <tr>\n",
       "      <th rowspan=\"3\" valign=\"top\">Antalya</th>\n",
       "      <th>Herşey Dahil</th>\n",
       "      <td>64.52</td>\n",
       "    </tr>\n",
       "    <tr>\n",
       "      <th>Oda + Kahvaltı</th>\n",
       "      <td>63.50</td>\n",
       "    </tr>\n",
       "    <tr>\n",
       "      <th>Yarım Pansiyon</th>\n",
       "      <td>67.19</td>\n",
       "    </tr>\n",
       "    <tr>\n",
       "      <th rowspan=\"3\" valign=\"top\">Aydın</th>\n",
       "      <th>Herşey Dahil</th>\n",
       "      <td>54.00</td>\n",
       "    </tr>\n",
       "    <tr>\n",
       "      <th>Oda + Kahvaltı</th>\n",
       "      <td>34.46</td>\n",
       "    </tr>\n",
       "    <tr>\n",
       "      <th>Yarım Pansiyon</th>\n",
       "      <td>30.02</td>\n",
       "    </tr>\n",
       "    <tr>\n",
       "      <th rowspan=\"3\" valign=\"top\">Diğer</th>\n",
       "      <th>Herşey Dahil</th>\n",
       "      <td>84.77</td>\n",
       "    </tr>\n",
       "    <tr>\n",
       "      <th>Oda + Kahvaltı</th>\n",
       "      <td>37.60</td>\n",
       "    </tr>\n",
       "    <tr>\n",
       "      <th>Yarım Pansiyon</th>\n",
       "      <td>42.11</td>\n",
       "    </tr>\n",
       "    <tr>\n",
       "      <th rowspan=\"3\" valign=\"top\">Girne</th>\n",
       "      <th>Herşey Dahil</th>\n",
       "      <td>97.68</td>\n",
       "    </tr>\n",
       "    <tr>\n",
       "      <th>Oda + Kahvaltı</th>\n",
       "      <td>39.78</td>\n",
       "    </tr>\n",
       "    <tr>\n",
       "      <th>Yarım Pansiyon</th>\n",
       "      <td>53.25</td>\n",
       "    </tr>\n",
       "    <tr>\n",
       "      <th rowspan=\"3\" valign=\"top\">Muğla</th>\n",
       "      <th>Herşey Dahil</th>\n",
       "      <td>63.02</td>\n",
       "    </tr>\n",
       "    <tr>\n",
       "      <th>Oda + Kahvaltı</th>\n",
       "      <td>59.04</td>\n",
       "    </tr>\n",
       "    <tr>\n",
       "      <th>Yarım Pansiyon</th>\n",
       "      <td>45.12</td>\n",
       "    </tr>\n",
       "    <tr>\n",
       "      <th rowspan=\"3\" valign=\"top\">İzmir</th>\n",
       "      <th>Herşey Dahil</th>\n",
       "      <td>74.70</td>\n",
       "    </tr>\n",
       "    <tr>\n",
       "      <th>Oda + Kahvaltı</th>\n",
       "      <td>41.32</td>\n",
       "    </tr>\n",
       "    <tr>\n",
       "      <th>Yarım Pansiyon</th>\n",
       "      <td>59.61</td>\n",
       "    </tr>\n",
       "  </tbody>\n",
       "</table>\n",
       "</div>"
      ],
      "text/plain": [
       "                             Price\n",
       "SaleCityName ConceptName          \n",
       "Antalya      Herşey Dahil    64.52\n",
       "             Oda + Kahvaltı  63.50\n",
       "             Yarım Pansiyon  67.19\n",
       "Aydın        Herşey Dahil    54.00\n",
       "             Oda + Kahvaltı  34.46\n",
       "             Yarım Pansiyon  30.02\n",
       "Diğer        Herşey Dahil    84.77\n",
       "             Oda + Kahvaltı  37.60\n",
       "             Yarım Pansiyon  42.11\n",
       "Girne        Herşey Dahil    97.68\n",
       "             Oda + Kahvaltı  39.78\n",
       "             Yarım Pansiyon  53.25\n",
       "Muğla        Herşey Dahil    63.02\n",
       "             Oda + Kahvaltı  59.04\n",
       "             Yarım Pansiyon  45.12\n",
       "İzmir        Herşey Dahil    74.70\n",
       "             Oda + Kahvaltı  41.32\n",
       "             Yarım Pansiyon  59.61"
      ]
     },
     "execution_count": 25,
     "metadata": {},
     "output_type": "execute_result"
    }
   ],
   "source": [
    "df.groupby([\"SaleCityName\", \"ConceptName\"]).agg({\"Price\": \"mean\"})"
   ]
  },
  {
   "cell_type": "code",
   "execution_count": 26,
   "id": "36a956c9-acee-430a-88c6-d60206ea959b",
   "metadata": {},
   "outputs": [],
   "source": [
    "bins = [-1, 7, 30, 90, df[\"SaleCheckInDayDiff\"].max()]\n",
    "labels = [\"Last Minuters\", \"Potential Planners\", \"Planners\", \"Early Bookers\"]"
   ]
  },
  {
   "cell_type": "code",
   "execution_count": 27,
   "id": "991f1a99-eafd-4561-a124-1837b4a4ef67",
   "metadata": {},
   "outputs": [],
   "source": [
    "df[\"EB_Score\"] = pd.cut(df[\"SaleCheckInDayDiff\"], bins, labels=labels)\n",
    "df.head(50).to_excel(\"eb_scores.xlsx\", index=False)"
   ]
  },
  {
   "cell_type": "code",
   "execution_count": null,
   "id": "42ad8280-e966-4287-b370-e4dabe64f7ee",
   "metadata": {},
   "outputs": [],
   "source": []
  }
 ],
 "metadata": {
  "kernelspec": {
   "display_name": "Python 3 (ipykernel)",
   "language": "python",
   "name": "python3"
  },
  "language_info": {
   "codemirror_mode": {
    "name": "ipython",
    "version": 3
   },
   "file_extension": ".py",
   "mimetype": "text/x-python",
   "name": "python",
   "nbconvert_exporter": "python",
   "pygments_lexer": "ipython3",
   "version": "3.10.7"
  }
 },
 "nbformat": 4,
 "nbformat_minor": 5
}
